{
 "cells": [
  {
   "cell_type": "code",
   "execution_count": 1,
   "id": "0c7a8498-c561-4d29-b4d1-4fd3841a88a4",
   "metadata": {},
   "outputs": [
    {
     "name": "stderr",
     "output_type": "stream",
     "text": [
      "2024-01-04 17:52:12.492984: W tensorflow/stream_executor/platform/default/dso_loader.cc:64] Could not load dynamic library 'libcudart.so.11.0'; dlerror: libcudart.so.11.0: cannot open shared object file: No such file or directory\n",
      "2024-01-04 17:52:12.493040: I tensorflow/stream_executor/cuda/cudart_stub.cc:29] Ignore above cudart dlerror if you do not have a GPU set up on your machine.\n"
     ]
    }
   ],
   "source": [
    "import json\n",
    "import os\n",
    "import time\n",
    "from uuid import uuid4\n",
    "\n",
    "import numpy as np\n",
    "import redis\n",
    "from tensorflow.keras.applications import ResNet50\n",
    "from tensorflow.keras.applications.resnet50 import decode_predictions, preprocess_input\n",
    "from tensorflow.keras.preprocessing import image\n",
    "import tensorflow as tf"
   ]
  },
  {
   "cell_type": "code",
   "execution_count": 2,
   "id": "c8ec8794-8832-4764-911c-373cf7cc37aa",
   "metadata": {},
   "outputs": [
    {
     "name": "stderr",
     "output_type": "stream",
     "text": [
      "2024-01-04 17:52:19.924592: W tensorflow/stream_executor/platform/default/dso_loader.cc:64] Could not load dynamic library 'libcuda.so.1'; dlerror: libcuda.so.1: cannot open shared object file: No such file or directory\n",
      "2024-01-04 17:52:19.924691: W tensorflow/stream_executor/cuda/cuda_driver.cc:269] failed call to cuInit: UNKNOWN ERROR (303)\n",
      "2024-01-04 17:52:19.924752: I tensorflow/stream_executor/cuda/cuda_diagnostics.cc:156] kernel driver does not appear to be running on this host (9105339d2bc3): /proc/driver/nvidia/version does not exist\n",
      "2024-01-04 17:52:19.925294: I tensorflow/core/platform/cpu_feature_guard.cc:151] This TensorFlow binary is optimized with oneAPI Deep Neural Network Library (oneDNN) to use the following CPU instructions in performance-critical operations:  AVX2\n",
      "To enable them in other operations, rebuild TensorFlow with the appropriate compiler flags.\n"
     ]
    }
   ],
   "source": [
    "REDIS_QUEUE = \"service_queue\"\n",
    "REDIS_PORT = 6379\n",
    "REDIS_DB_ID = 0\n",
    "REDIS_IP = os.getenv(\"REDIS_IP\", \"redis\")\n",
    "SERVER_SLEEP = 0.05\n",
    "\n",
    "db = redis.Redis(\n",
    "    host=REDIS_IP,\n",
    "    port=REDIS_PORT,\n",
    "    db=REDIS_DB_ID\n",
    ")\n",
    "\n",
    "model = ResNet50(include_top=True, weights=\"imagenet\")"
   ]
  },
  {
   "cell_type": "code",
   "execution_count": 93,
   "id": "fb5da1c0-0551-4ae8-ab9e-a957e68c464a",
   "metadata": {},
   "outputs": [],
   "source": [
    "for i in range(10):\n",
    "    job_id = f\"{uuid4()}\"\n",
    "    job_data = dict(id=f\"{job_id}\", image_name=\"dog.jpeg\")\n",
    "    db.lpush(REDIS_QUEUE,  json.dumps(job_data))"
   ]
  },
  {
   "cell_type": "code",
   "execution_count": 94,
   "id": "e9039664-a0ea-414a-8d39-bf90a631b5fc",
   "metadata": {},
   "outputs": [],
   "source": [
    "batch_size = 10\n",
    "filenames = []\n",
    "ids = []\n",
    "for i in range(batch_size):\n",
    "    queue_value = db.lpop(\"service_queue\")\n",
    "    if queue_value is None:\n",
    "        break\n",
    "    data = json.loads(queue_value.decode())\n",
    "    filename = data.get(\"image_name\")\n",
    "    id = data.get(\"id\")\n",
    "    ids.append(id)\n",
    "    filenames.append(filename)\n",
    "# filenames, ids"
   ]
  },
  {
   "cell_type": "code",
   "execution_count": 95,
   "id": "cff0b390-e8da-4517-815b-2ce1468ae031",
   "metadata": {},
   "outputs": [],
   "source": [
    "def load_image(filename):\n",
    "    img = image.load_img(img_path, target_size=(224, 224))\n",
    "    return image.img_to_array(img)"
   ]
  },
  {
   "cell_type": "code",
   "execution_count": 96,
   "id": "243adc69-15e5-465f-a4b9-433f98ea978f",
   "metadata": {},
   "outputs": [],
   "source": [
    "filenames = [os.path.join(\".\", filename) for filename in filenames]\n",
    "dataset = np.array([load_image(filename) for filename in filenames])\n",
    "dataset_batch = preprocess_input(dataset)\n",
    "preds = model.predict(dataset_batch, batch_size=batch_size)\n",
    "preds = decode_predictions(preds, top=1)"
   ]
  },
  {
   "cell_type": "code",
   "execution_count": 97,
   "id": "b71b9e1b-4406-4eb8-868f-ea5290bc6a84",
   "metadata": {},
   "outputs": [],
   "source": [
    "for pred, job_id in zip(preds, ids):\n",
    "    _, class_name, pred_probability = pred[0]\n",
    "    result = dict(prediction=class_name,\n",
    "                  score=float(f\"{pred_probability:.4f}\"))\n",
    "    db.set(job_id, json.dumps(result))"
   ]
  },
  {
   "cell_type": "code",
   "execution_count": 100,
   "id": "6889608e-23db-4420-8504-0f52c75a7133",
   "metadata": {},
   "outputs": [
    {
     "data": {
      "text/plain": [
       "b'{\"prediction\": \"Eskimo_dog\", \"score\": 0.9346}'"
      ]
     },
     "execution_count": 100,
     "metadata": {},
     "output_type": "execute_result"
    }
   ],
   "source": [
    "db.get(ids[4])"
   ]
  },
  {
   "cell_type": "code",
   "execution_count": 99,
   "id": "e0935ae1-740a-4e41-aad8-ef9168b1285a",
   "metadata": {},
   "outputs": [
    {
     "data": {
      "text/plain": [
       "['b1fa2127-7e55-4130-91de-6b72bedeeb2f',\n",
       " 'f54b0ef4-e30c-47f9-84f8-622993c60770',\n",
       " 'f79e2aca-0d3d-4acd-acdd-81d8a7c9360c',\n",
       " '9ee9d23e-ff99-4ba6-a62b-52878b463fb1',\n",
       " '2a442eb9-2b4e-45d2-9d12-509617c00b5d',\n",
       " '5fb46d6b-db80-484c-ab6d-4f90da3da916',\n",
       " '4f35d2c8-db71-44c8-b6ae-1c9b04f97e20',\n",
       " '752318c6-f882-44ce-b449-9696d5f0f603',\n",
       " '53bf2525-65e3-4bea-bc47-73ab646e4dfa',\n",
       " 'e2225055-db84-412e-844f-3d233a5e1160']"
      ]
     },
     "execution_count": 99,
     "metadata": {},
     "output_type": "execute_result"
    }
   ],
   "source": [
    "ids"
   ]
  },
  {
   "cell_type": "code",
   "execution_count": null,
   "id": "8417c3e9-422d-4d48-aedf-8e711cb43b44",
   "metadata": {},
   "outputs": [],
   "source": []
  }
 ],
 "metadata": {
  "kernelspec": {
   "display_name": "Python 3 (ipykernel)",
   "language": "python",
   "name": "python3"
  },
  "language_info": {
   "codemirror_mode": {
    "name": "ipython",
    "version": 3
   },
   "file_extension": ".py",
   "mimetype": "text/x-python",
   "name": "python",
   "nbconvert_exporter": "python",
   "pygments_lexer": "ipython3",
   "version": "3.8.13"
  }
 },
 "nbformat": 4,
 "nbformat_minor": 5
}
